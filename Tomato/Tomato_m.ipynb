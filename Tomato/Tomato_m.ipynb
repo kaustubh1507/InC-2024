{
 "cells": [
  {
   "cell_type": "code",
   "execution_count": 1,
   "id": "52bb57ce",
   "metadata": {
    "scrolled": true
   },
   "outputs": [
    {
     "name": "stdout",
     "output_type": "stream",
     "text": [
      "Defaulting to user installation because normal site-packages is not writeableNote: you may need to restart the kernel to use updated packages.\n",
      "\n",
      "Requirement already satisfied: tensorflow in c:\\users\\shrihari tiwari\\appdata\\roaming\\python\\python311\\site-packages (2.12.0)\n",
      "Requirement already satisfied: tensorflow-intel==2.12.0 in c:\\users\\shrihari tiwari\\appdata\\roaming\\python\\python311\\site-packages (from tensorflow) (2.12.0)\n",
      "Requirement already satisfied: absl-py>=1.0.0 in c:\\users\\shrihari tiwari\\appdata\\roaming\\python\\python311\\site-packages (from tensorflow-intel==2.12.0->tensorflow) (2.0.0)\n",
      "Requirement already satisfied: astunparse>=1.6.0 in c:\\users\\shrihari tiwari\\appdata\\roaming\\python\\python311\\site-packages (from tensorflow-intel==2.12.0->tensorflow) (1.6.3)\n",
      "Requirement already satisfied: flatbuffers>=2.0 in c:\\users\\shrihari tiwari\\appdata\\roaming\\python\\python311\\site-packages (from tensorflow-intel==2.12.0->tensorflow) (23.5.26)\n",
      "Requirement already satisfied: gast<=0.4.0,>=0.2.1 in c:\\users\\shrihari tiwari\\appdata\\roaming\\python\\python311\\site-packages (from tensorflow-intel==2.12.0->tensorflow) (0.4.0)\n",
      "Requirement already satisfied: google-pasta>=0.1.1 in c:\\users\\shrihari tiwari\\appdata\\roaming\\python\\python311\\site-packages (from tensorflow-intel==2.12.0->tensorflow) (0.2.0)\n",
      "Requirement already satisfied: h5py>=2.9.0 in c:\\programdata\\anaconda3\\lib\\site-packages (from tensorflow-intel==2.12.0->tensorflow) (3.9.0)\n",
      "Requirement already satisfied: jax>=0.3.15 in c:\\users\\shrihari tiwari\\appdata\\roaming\\python\\python311\\site-packages (from tensorflow-intel==2.12.0->tensorflow) (0.4.20)\n",
      "Requirement already satisfied: libclang>=13.0.0 in c:\\users\\shrihari tiwari\\appdata\\roaming\\python\\python311\\site-packages (from tensorflow-intel==2.12.0->tensorflow) (16.0.6)\n",
      "Requirement already satisfied: numpy<1.24,>=1.22 in c:\\users\\shrihari tiwari\\appdata\\roaming\\python\\python311\\site-packages (from tensorflow-intel==2.12.0->tensorflow) (1.23.5)\n",
      "Requirement already satisfied: opt-einsum>=2.3.2 in c:\\users\\shrihari tiwari\\appdata\\roaming\\python\\python311\\site-packages (from tensorflow-intel==2.12.0->tensorflow) (3.3.0)\n",
      "Requirement already satisfied: packaging in c:\\programdata\\anaconda3\\lib\\site-packages (from tensorflow-intel==2.12.0->tensorflow) (23.1)\n",
      "Requirement already satisfied: protobuf!=4.21.0,!=4.21.1,!=4.21.2,!=4.21.3,!=4.21.4,!=4.21.5,<5.0.0dev,>=3.20.3 in c:\\users\\shrihari tiwari\\appdata\\roaming\\python\\python311\\site-packages (from tensorflow-intel==2.12.0->tensorflow) (4.24.4)\n",
      "Requirement already satisfied: setuptools in c:\\programdata\\anaconda3\\lib\\site-packages (from tensorflow-intel==2.12.0->tensorflow) (68.0.0)\n",
      "Requirement already satisfied: six>=1.12.0 in c:\\programdata\\anaconda3\\lib\\site-packages (from tensorflow-intel==2.12.0->tensorflow) (1.16.0)\n",
      "Requirement already satisfied: termcolor>=1.1.0 in c:\\users\\shrihari tiwari\\appdata\\roaming\\python\\python311\\site-packages (from tensorflow-intel==2.12.0->tensorflow) (2.3.0)\n",
      "Requirement already satisfied: typing-extensions>=3.6.6 in c:\\programdata\\anaconda3\\lib\\site-packages (from tensorflow-intel==2.12.0->tensorflow) (4.7.1)\n",
      "Requirement already satisfied: wrapt<1.15,>=1.11.0 in c:\\programdata\\anaconda3\\lib\\site-packages (from tensorflow-intel==2.12.0->tensorflow) (1.14.1)\n",
      "Requirement already satisfied: grpcio<2.0,>=1.24.3 in c:\\users\\shrihari tiwari\\appdata\\roaming\\python\\python311\\site-packages (from tensorflow-intel==2.12.0->tensorflow) (1.59.2)\n",
      "Requirement already satisfied: tensorboard<2.13,>=2.12 in c:\\users\\shrihari tiwari\\appdata\\roaming\\python\\python311\\site-packages (from tensorflow-intel==2.12.0->tensorflow) (2.12.3)\n",
      "Requirement already satisfied: tensorflow-estimator<2.13,>=2.12.0 in c:\\users\\shrihari tiwari\\appdata\\roaming\\python\\python311\\site-packages (from tensorflow-intel==2.12.0->tensorflow) (2.12.0)\n",
      "Requirement already satisfied: keras<2.13,>=2.12.0 in c:\\users\\shrihari tiwari\\appdata\\roaming\\python\\python311\\site-packages (from tensorflow-intel==2.12.0->tensorflow) (2.12.0)\n",
      "Requirement already satisfied: tensorflow-io-gcs-filesystem>=0.23.1 in c:\\users\\shrihari tiwari\\appdata\\roaming\\python\\python311\\site-packages (from tensorflow-intel==2.12.0->tensorflow) (0.31.0)\n",
      "Requirement already satisfied: wheel<1.0,>=0.23.0 in c:\\programdata\\anaconda3\\lib\\site-packages (from astunparse>=1.6.0->tensorflow-intel==2.12.0->tensorflow) (0.38.4)\n",
      "Requirement already satisfied: ml-dtypes>=0.2.0 in c:\\users\\shrihari tiwari\\appdata\\roaming\\python\\python311\\site-packages (from jax>=0.3.15->tensorflow-intel==2.12.0->tensorflow) (0.2.0)\n",
      "Requirement already satisfied: scipy>=1.9 in c:\\programdata\\anaconda3\\lib\\site-packages (from jax>=0.3.15->tensorflow-intel==2.12.0->tensorflow) (1.11.3)\n",
      "Requirement already satisfied: google-auth<3,>=1.6.3 in c:\\users\\shrihari tiwari\\appdata\\roaming\\python\\python311\\site-packages (from tensorboard<2.13,>=2.12->tensorflow-intel==2.12.0->tensorflow) (2.23.4)\n",
      "Requirement already satisfied: google-auth-oauthlib<1.1,>=0.5 in c:\\users\\shrihari tiwari\\appdata\\roaming\\python\\python311\\site-packages (from tensorboard<2.13,>=2.12->tensorflow-intel==2.12.0->tensorflow) (1.0.0)\n",
      "Requirement already satisfied: markdown>=2.6.8 in c:\\programdata\\anaconda3\\lib\\site-packages (from tensorboard<2.13,>=2.12->tensorflow-intel==2.12.0->tensorflow) (3.4.1)\n",
      "Requirement already satisfied: requests<3,>=2.21.0 in c:\\programdata\\anaconda3\\lib\\site-packages (from tensorboard<2.13,>=2.12->tensorflow-intel==2.12.0->tensorflow) (2.31.0)\n",
      "Requirement already satisfied: tensorboard-data-server<0.8.0,>=0.7.0 in c:\\users\\shrihari tiwari\\appdata\\roaming\\python\\python311\\site-packages (from tensorboard<2.13,>=2.12->tensorflow-intel==2.12.0->tensorflow) (0.7.2)\n",
      "Requirement already satisfied: werkzeug>=1.0.1 in c:\\programdata\\anaconda3\\lib\\site-packages (from tensorboard<2.13,>=2.12->tensorflow-intel==2.12.0->tensorflow) (2.2.3)\n",
      "Requirement already satisfied: cachetools<6.0,>=2.0.0 in c:\\users\\shrihari tiwari\\appdata\\roaming\\python\\python311\\site-packages (from google-auth<3,>=1.6.3->tensorboard<2.13,>=2.12->tensorflow-intel==2.12.0->tensorflow) (5.3.2)\n",
      "Requirement already satisfied: pyasn1-modules>=0.2.1 in c:\\programdata\\anaconda3\\lib\\site-packages (from google-auth<3,>=1.6.3->tensorboard<2.13,>=2.12->tensorflow-intel==2.12.0->tensorflow) (0.2.8)\n",
      "Requirement already satisfied: rsa<5,>=3.1.4 in c:\\users\\shrihari tiwari\\appdata\\roaming\\python\\python311\\site-packages (from google-auth<3,>=1.6.3->tensorboard<2.13,>=2.12->tensorflow-intel==2.12.0->tensorflow) (4.9)\n",
      "Requirement already satisfied: requests-oauthlib>=0.7.0 in c:\\users\\shrihari tiwari\\appdata\\roaming\\python\\python311\\site-packages (from google-auth-oauthlib<1.1,>=0.5->tensorboard<2.13,>=2.12->tensorflow-intel==2.12.0->tensorflow) (1.3.1)\n",
      "Requirement already satisfied: charset-normalizer<4,>=2 in c:\\programdata\\anaconda3\\lib\\site-packages (from requests<3,>=2.21.0->tensorboard<2.13,>=2.12->tensorflow-intel==2.12.0->tensorflow) (2.0.4)\n",
      "Requirement already satisfied: idna<4,>=2.5 in c:\\programdata\\anaconda3\\lib\\site-packages (from requests<3,>=2.21.0->tensorboard<2.13,>=2.12->tensorflow-intel==2.12.0->tensorflow) (3.4)\n",
      "Requirement already satisfied: urllib3<3,>=1.21.1 in c:\\programdata\\anaconda3\\lib\\site-packages (from requests<3,>=2.21.0->tensorboard<2.13,>=2.12->tensorflow-intel==2.12.0->tensorflow) (1.26.18)\n",
      "Requirement already satisfied: certifi>=2017.4.17 in c:\\programdata\\anaconda3\\lib\\site-packages (from requests<3,>=2.21.0->tensorboard<2.13,>=2.12->tensorflow-intel==2.12.0->tensorflow) (2023.7.22)\n",
      "Requirement already satisfied: MarkupSafe>=2.1.1 in c:\\programdata\\anaconda3\\lib\\site-packages (from werkzeug>=1.0.1->tensorboard<2.13,>=2.12->tensorflow-intel==2.12.0->tensorflow) (2.1.1)\n",
      "Requirement already satisfied: pyasn1<0.5.0,>=0.4.6 in c:\\programdata\\anaconda3\\lib\\site-packages (from pyasn1-modules>=0.2.1->google-auth<3,>=1.6.3->tensorboard<2.13,>=2.12->tensorflow-intel==2.12.0->tensorflow) (0.4.8)\n",
      "Requirement already satisfied: oauthlib>=3.0.0 in c:\\users\\shrihari tiwari\\appdata\\roaming\\python\\python311\\site-packages (from requests-oauthlib>=0.7.0->google-auth-oauthlib<1.1,>=0.5->tensorboard<2.13,>=2.12->tensorflow-intel==2.12.0->tensorflow) (3.2.2)\n"
     ]
    }
   ],
   "source": [
    "pip install tensorflow\n"
   ]
  },
  {
   "cell_type": "code",
   "execution_count": 2,
   "id": "ab9d5be4",
   "metadata": {},
   "outputs": [
    {
     "name": "stdout",
     "output_type": "stream",
     "text": [
      "Defaulting to user installation because normal site-packages is not writeable\n",
      "Requirement already satisfied: pycryptodome in c:\\users\\shrihari tiwari\\appdata\\roaming\\python\\python311\\site-packages (3.20.0)\n",
      "Note: you may need to restart the kernel to use updated packages.\n"
     ]
    }
   ],
   "source": [
    "pip install -U pycryptodome"
   ]
  },
  {
   "cell_type": "code",
   "execution_count": 61,
   "id": "8cf6ca0a",
   "metadata": {},
   "outputs": [],
   "source": [
    "import tensorflow as tf\n",
    "from tensorflow.keras import models, layers\n",
    "import matplotlib.pyplot as plt"
   ]
  },
  {
   "cell_type": "code",
   "execution_count": 62,
   "id": "88aff15a",
   "metadata": {},
   "outputs": [
    {
     "name": "stdout",
     "output_type": "stream",
     "text": [
      "Found 4500 files belonging to 3 classes.\n"
     ]
    }
   ],
   "source": [
    "dataset = tf.keras.preprocessing.image_dataset_from_directory(\"Dataset_T\", shuffle = True, image_size  = (256,256), batch_size =32)"
   ]
  },
  {
   "cell_type": "code",
   "execution_count": 63,
   "id": "394cbfdc",
   "metadata": {},
   "outputs": [
    {
     "data": {
      "text/plain": [
       "['Tomato_Early_blight', 'Tomato_Late_blight', 'Tomato_healthy']"
      ]
     },
     "execution_count": 63,
     "metadata": {},
     "output_type": "execute_result"
    }
   ],
   "source": [
    "class_names = dataset.class_names\n",
    "class_names"
   ]
  },
  {
   "cell_type": "code",
   "execution_count": 65,
   "id": "2c21d7cf",
   "metadata": {},
   "outputs": [],
   "source": [
    "dataset = dataset.shuffle(10000, seed = 12)"
   ]
  },
  {
   "cell_type": "code",
   "execution_count": 66,
   "id": "dd0b43f9",
   "metadata": {},
   "outputs": [
    {
     "data": {
      "text/plain": [
       "110"
      ]
     },
     "execution_count": 66,
     "metadata": {},
     "output_type": "execute_result"
    }
   ],
   "source": [
    "train_ds = dataset.take(110)\n",
    "len(train_ds)"
   ]
  },
  {
   "cell_type": "code",
   "execution_count": 67,
   "id": "cd240d44",
   "metadata": {},
   "outputs": [
    {
     "data": {
      "text/plain": [
       "31"
      ]
     },
     "execution_count": 67,
     "metadata": {},
     "output_type": "execute_result"
    }
   ],
   "source": [
    "left_ds= dataset.skip(110)\n",
    "len(left_ds)"
   ]
  },
  {
   "cell_type": "code",
   "execution_count": 68,
   "id": "381543fa",
   "metadata": {},
   "outputs": [
    {
     "data": {
      "text/plain": [
       "15"
      ]
     },
     "execution_count": 68,
     "metadata": {},
     "output_type": "execute_result"
    }
   ],
   "source": [
    "validation_ds = left_ds.take(15)\n",
    "len(validation_ds)"
   ]
  },
  {
   "cell_type": "code",
   "execution_count": 69,
   "id": "f321e583",
   "metadata": {},
   "outputs": [
    {
     "data": {
      "text/plain": [
       "16"
      ]
     },
     "execution_count": 69,
     "metadata": {},
     "output_type": "execute_result"
    }
   ],
   "source": [
    "test_ds= left_ds.skip(15)\n",
    "len(test_ds)"
   ]
  },
  {
   "cell_type": "code",
   "execution_count": 70,
   "id": "41290edd",
   "metadata": {},
   "outputs": [],
   "source": [
    "train_ds = train_ds.cache().shuffle(1000).prefetch(buffer_size = tf.data.AUTOTUNE)\n",
    "val_ds = validation_ds.cache().shuffle(1000).prefetch(buffer_size = tf.data.AUTOTUNE)\n",
    "test_ds = test_ds.cache().shuffle(1000).prefetch(buffer_size = tf.data.AUTOTUNE)"
   ]
  },
  {
   "cell_type": "code",
   "execution_count": 71,
   "id": "390f5e02",
   "metadata": {},
   "outputs": [],
   "source": [
    "resize_and_rescale = tf.keras.Sequential([\n",
    "    layers.experimental.preprocessing.Resizing(256,256),\n",
    "    layers.experimental.preprocessing.Rescaling(1.0/255),\n",
    "])"
   ]
  },
  {
   "cell_type": "code",
   "execution_count": 72,
   "id": "ecb976b2",
   "metadata": {},
   "outputs": [],
   "source": [
    "data_augmentation = tf.keras.Sequential([\n",
    "    layers.experimental.preprocessing.RandomFlip(\"horizontal_and_vertical\"),\n",
    "    layers.experimental.preprocessing.RandomRotation(0.2),\n",
    "])"
   ]
  },
  {
   "cell_type": "code",
   "execution_count": 73,
   "id": "99ad753f",
   "metadata": {},
   "outputs": [],
   "source": [
    "tomato_model = models.Sequential([\n",
    "    resize_and_rescale,\n",
    "    data_augmentation,\n",
    "    \n",
    "    layers.Conv2D(32, (3,3), activation ='relu', input_shape = (32,256,256,3), padding = \"same\"),\n",
    "    layers.MaxPooling2D(2,2),\n",
    "    layers.Conv2D(64, (3,3), activation ='relu',padding = \"same\"),\n",
    "    layers.MaxPooling2D(2,2),\n",
    "    layers.Conv2D(64, (3,3), activation ='relu',padding = \"same\"),\n",
    "    layers.MaxPooling2D(2,2),\n",
    "    layers.Conv2D(64, (3,3), activation ='relu',padding = \"same\"),\n",
    "    layers.MaxPooling2D(2,2),\n",
    "    layers.Conv2D(64, (3,3), activation ='relu',padding = \"same\"),\n",
    "    layers.MaxPooling2D(2,2),\n",
    "    layers.Conv2D(64, (3,3), activation ='relu',padding = \"same\"),\n",
    "    layers.MaxPooling2D(2,2),\n",
    "#     layers.Conv2D(64, (3,3), activation ='relu',padding = \"same\"),\n",
    "#     layers.MaxPooling2D(2,2),\n",
    "#     layers.Conv2D(64, (3,3), activation ='relu',padding = \"same\"),\n",
    "#     layers.MaxPooling2D(2,2),\n",
    "    layers.Conv2D(64, (3,3), activation ='relu',padding = \"same\"),\n",
    "    layers.MaxPooling2D(2,2),\n",
    "    \n",
    "    layers.Flatten(),\n",
    "    layers.Dense(64,activation = 'relu'),\n",
    "    layers.Dense(3, activation = 'softmax')\n",
    "])\n",
    "\n",
    "tomato_model.build(input_shape = (32,256,256,3))"
   ]
  },
  {
   "cell_type": "code",
   "execution_count": 74,
   "id": "ebe3d99e",
   "metadata": {},
   "outputs": [
    {
     "name": "stdout",
     "output_type": "stream",
     "text": [
      "Model: \"sequential_14\"\n",
      "_________________________________________________________________\n",
      " Layer (type)                Output Shape              Param #   \n",
      "=================================================================\n",
      " sequential_12 (Sequential)  (32, 256, 256, 3)         0         \n",
      "                                                                 \n",
      " sequential_13 (Sequential)  (32, 256, 256, 3)         0         \n",
      "                                                                 \n",
      " conv2d_47 (Conv2D)          (32, 256, 256, 32)        896       \n",
      "                                                                 \n",
      " max_pooling2d_47 (MaxPoolin  (32, 128, 128, 32)       0         \n",
      " g2D)                                                            \n",
      "                                                                 \n",
      " conv2d_48 (Conv2D)          (32, 128, 128, 64)        18496     \n",
      "                                                                 \n",
      " max_pooling2d_48 (MaxPoolin  (32, 64, 64, 64)         0         \n",
      " g2D)                                                            \n",
      "                                                                 \n",
      " conv2d_49 (Conv2D)          (32, 64, 64, 64)          36928     \n",
      "                                                                 \n",
      " max_pooling2d_49 (MaxPoolin  (32, 32, 32, 64)         0         \n",
      " g2D)                                                            \n",
      "                                                                 \n",
      " conv2d_50 (Conv2D)          (32, 32, 32, 64)          36928     \n",
      "                                                                 \n",
      " max_pooling2d_50 (MaxPoolin  (32, 16, 16, 64)         0         \n",
      " g2D)                                                            \n",
      "                                                                 \n",
      " conv2d_51 (Conv2D)          (32, 16, 16, 64)          36928     \n",
      "                                                                 \n",
      " max_pooling2d_51 (MaxPoolin  (32, 8, 8, 64)           0         \n",
      " g2D)                                                            \n",
      "                                                                 \n",
      " conv2d_52 (Conv2D)          (32, 8, 8, 64)            36928     \n",
      "                                                                 \n",
      " max_pooling2d_52 (MaxPoolin  (32, 4, 4, 64)           0         \n",
      " g2D)                                                            \n",
      "                                                                 \n",
      " conv2d_53 (Conv2D)          (32, 4, 4, 64)            36928     \n",
      "                                                                 \n",
      " max_pooling2d_53 (MaxPoolin  (32, 2, 2, 64)           0         \n",
      " g2D)                                                            \n",
      "                                                                 \n",
      " flatten_8 (Flatten)         (32, 256)                 0         \n",
      "                                                                 \n",
      " dense_16 (Dense)            (32, 64)                  16448     \n",
      "                                                                 \n",
      " dense_17 (Dense)            (32, 3)                   195       \n",
      "                                                                 \n",
      "=================================================================\n",
      "Total params: 220,675\n",
      "Trainable params: 220,675\n",
      "Non-trainable params: 0\n",
      "_________________________________________________________________\n"
     ]
    }
   ],
   "source": [
    "tomato_model.summary()"
   ]
  },
  {
   "cell_type": "code",
   "execution_count": 75,
   "id": "abe7f77f",
   "metadata": {},
   "outputs": [],
   "source": [
    "tomato_model.compile(\n",
    "    optimizer='adam',\n",
    "    loss=tf.keras.losses.SparseCategoricalCrossentropy(from_logits=False),\n",
    "    metrics=['accuracy']\n",
    ")"
   ]
  },
  {
   "cell_type": "code",
   "execution_count": 59,
   "id": "19eb53bd",
   "metadata": {},
   "outputs": [],
   "source": [
    "steps_per_epoch = len(train_ds)//32\n",
    "\n",
    "validation_steps = len(test_ds)//32 "
   ]
  },
  {
   "cell_type": "code",
   "execution_count": 76,
   "id": "dc37605b",
   "metadata": {},
   "outputs": [
    {
     "name": "stdout",
     "output_type": "stream",
     "text": [
      "Epoch 1/20\n",
      "110/110 [==============================] - 128s 1s/step - loss: 1.0272 - accuracy: 0.4584 - val_loss: 0.8881 - val_accuracy: 0.5521\n",
      "Epoch 2/20\n",
      "110/110 [==============================] - 124s 1s/step - loss: 0.8242 - accuracy: 0.6012 - val_loss: 0.6332 - val_accuracy: 0.7083\n",
      "Epoch 3/20\n",
      "110/110 [==============================] - 123s 1s/step - loss: 0.6341 - accuracy: 0.6904 - val_loss: 0.6317 - val_accuracy: 0.7063\n",
      "Epoch 4/20\n",
      "110/110 [==============================] - 123s 1s/step - loss: 0.5789 - accuracy: 0.7104 - val_loss: 0.5292 - val_accuracy: 0.7500\n",
      "Epoch 5/20\n",
      "110/110 [==============================] - 123s 1s/step - loss: 0.4650 - accuracy: 0.7600 - val_loss: 0.4097 - val_accuracy: 0.7896\n",
      "Epoch 6/20\n",
      "110/110 [==============================] - 123s 1s/step - loss: 0.3842 - accuracy: 0.8230 - val_loss: 0.3181 - val_accuracy: 0.8375\n",
      "Epoch 7/20\n",
      "110/110 [==============================] - 122s 1s/step - loss: 0.3218 - accuracy: 0.8558 - val_loss: 0.5582 - val_accuracy: 0.8021\n",
      "Epoch 8/20\n",
      "110/110 [==============================] - 123s 1s/step - loss: 0.2918 - accuracy: 0.8697 - val_loss: 0.4648 - val_accuracy: 0.8292\n",
      "Epoch 9/20\n",
      "110/110 [==============================] - 122s 1s/step - loss: 0.2682 - accuracy: 0.8831 - val_loss: 0.3958 - val_accuracy: 0.8479\n",
      "Epoch 10/20\n",
      "110/110 [==============================] - 122s 1s/step - loss: 0.2891 - accuracy: 0.8786 - val_loss: 0.3180 - val_accuracy: 0.8542\n",
      "Epoch 11/20\n",
      "110/110 [==============================] - 123s 1s/step - loss: 0.2262 - accuracy: 0.9011 - val_loss: 0.1811 - val_accuracy: 0.9250\n",
      "Epoch 12/20\n",
      "110/110 [==============================] - 123s 1s/step - loss: 0.2567 - accuracy: 0.8885 - val_loss: 0.6103 - val_accuracy: 0.7688\n",
      "Epoch 13/20\n",
      "110/110 [==============================] - 122s 1s/step - loss: 0.2255 - accuracy: 0.9051 - val_loss: 0.2261 - val_accuracy: 0.9042\n",
      "Epoch 14/20\n",
      "110/110 [==============================] - 123s 1s/step - loss: 0.2129 - accuracy: 0.9105 - val_loss: 0.6033 - val_accuracy: 0.7896\n",
      "Epoch 15/20\n",
      "110/110 [==============================] - 123s 1s/step - loss: 0.2079 - accuracy: 0.9188 - val_loss: 0.3142 - val_accuracy: 0.9042\n",
      "Epoch 16/20\n",
      "110/110 [==============================] - 123s 1s/step - loss: 0.1565 - accuracy: 0.9379 - val_loss: 0.2115 - val_accuracy: 0.9229\n",
      "Epoch 17/20\n",
      "110/110 [==============================] - 123s 1s/step - loss: 0.1608 - accuracy: 0.9384 - val_loss: 0.5011 - val_accuracy: 0.8083\n",
      "Epoch 18/20\n",
      "110/110 [==============================] - 123s 1s/step - loss: 0.1984 - accuracy: 0.9216 - val_loss: 0.2894 - val_accuracy: 0.9042\n",
      "Epoch 19/20\n",
      "110/110 [==============================] - 122s 1s/step - loss: 0.1480 - accuracy: 0.9447 - val_loss: 0.5387 - val_accuracy: 0.8417\n",
      "Epoch 20/20\n",
      "110/110 [==============================] - 122s 1s/step - loss: 0.1745 - accuracy: 0.9276 - val_loss: 0.3472 - val_accuracy: 0.8479\n"
     ]
    }
   ],
   "source": [
    "try:\n",
    "    tomato_model.fit(\n",
    "        train_ds,\n",
    "        epochs = 20,\n",
    "        batch_size = 32,\n",
    "        verbose = 1,\n",
    "        validation_data= val_ds,\n",
    "#         steps_per_epoch = steps_per_epoch,\n",
    "#         validation_steps = validation_steps,\n",
    "    )\n",
    "except:\n",
    "    pass"
   ]
  },
  {
   "cell_type": "code",
   "execution_count": 77,
   "id": "905ef096",
   "metadata": {},
   "outputs": [
    {
     "name": "stdout",
     "output_type": "stream",
     "text": [
      "16/16 [==============================] - 5s 190ms/step - loss: 0.3115 - accuracy: 0.8620\n"
     ]
    }
   ],
   "source": [
    "try:\n",
    "    tomato_model.evaluate(test_ds)\n",
    "except:\n",
    "    pass"
   ]
  },
  {
   "cell_type": "code",
   "execution_count": 78,
   "id": "bc798b23",
   "metadata": {},
   "outputs": [],
   "source": [
    "def predict(model, img):\n",
    "    img_array = tf.keras.preprocessing.image.img_to_array(images[i].numpy())\n",
    "    img_array = tf.expand_dims(img_array, 0)\n",
    "    \n",
    "    predictions = model.predict(img_array)\n",
    "    \n",
    "    predicted_class = class_names[np.argmax(predictions[0])]\n",
    "    confidence = round(100*(np.max(predictions[0])), 2)\n",
    "    return predicted_class, confidence"
   ]
  },
  {
   "cell_type": "code",
   "execution_count": 79,
   "id": "6ae2fca3",
   "metadata": {},
   "outputs": [
    {
     "name": "stderr",
     "output_type": "stream",
     "text": [
      "WARNING:absl:Found untraced functions such as _jit_compiled_convolution_op, _jit_compiled_convolution_op, _jit_compiled_convolution_op, _jit_compiled_convolution_op, _jit_compiled_convolution_op while saving (showing 5 of 8). These functions will not be directly callable after loading.\n"
     ]
    },
    {
     "name": "stdout",
     "output_type": "stream",
     "text": [
      "INFO:tensorflow:Assets written to: ../Models/tomato2\\assets\n"
     ]
    },
    {
     "name": "stderr",
     "output_type": "stream",
     "text": [
      "INFO:tensorflow:Assets written to: ../Models/tomato2\\assets\n"
     ]
    }
   ],
   "source": [
    "tomato_model.save(f\"../Models/tomato2\")"
   ]
  },
  {
   "cell_type": "code",
   "execution_count": null,
   "id": "06b84422",
   "metadata": {},
   "outputs": [],
   "source": []
  }
 ],
 "metadata": {
  "kernelspec": {
   "display_name": "Python 3 (ipykernel)",
   "language": "python",
   "name": "python3"
  },
  "language_info": {
   "codemirror_mode": {
    "name": "ipython",
    "version": 3
   },
   "file_extension": ".py",
   "mimetype": "text/x-python",
   "name": "python",
   "nbconvert_exporter": "python",
   "pygments_lexer": "ipython3",
   "version": "3.11.4"
  }
 },
 "nbformat": 4,
 "nbformat_minor": 5
}
